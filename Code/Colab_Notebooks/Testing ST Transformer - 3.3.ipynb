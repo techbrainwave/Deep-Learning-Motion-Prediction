{
  "nbformat": 4,
  "nbformat_minor": 0,
  "metadata": {
    "colab": {
      "name": "Testing SPT across rep.ipynb",
      "provenance": [],
      "collapsed_sections": []
    },
    "kernelspec": {
      "name": "python3",
      "display_name": "Python 3"
    },
    "language_info": {
      "name": "python"
    },
    "accelerator": "GPU"
  },
  "cells": [
    {
      "cell_type": "code",
      "metadata": {
        "id": "b4j0UddxIc-Y"
      },
      "source": [
        "%rm -rf sample_data\n",
        "!wget https://www.dropbox.com/s/4cpoi9zhw6x57oj/HumanoidMotionPrediction.zip?dl=0&file_subpath=%2FHumanoidMotionPrediction -p SPT\n",
        "!unzip /content/HumanoidMotionPrediction.zip?dl=0 -d Input \n",
        "!pip install /content/Input/HumanoidMotionPrediction"
      ],
      "execution_count": null,
      "outputs": []
    },
    {
      "cell_type": "markdown",
      "metadata": {
        "id": "P7m0Sq7UrKbV"
      },
      "source": [
        "# Loading in Data (assuming we already have it preprocessed)."
      ]
    },
    {
      "cell_type": "code",
      "metadata": {
        "id": "-Ev3FsN2rJcY",
        "colab": {
          "base_uri": "https://localhost:8080/"
        },
        "outputId": "60ed4949-e6e0-4e86-a1b8-8bd879f4bbbd"
      },
      "source": [
        "# Default input parameters\n",
        "!unzip \"/content/drive/MyDrive/School/Grad/CS 7643/Project/Biomotion_Processed_default.zip\" -d default\n",
        "!unzip \"/content/drive/MyDrive/School/Grad/CS 7643/Project/Action_Processed_default.zip\" -d default"
      ],
      "execution_count": null,
      "outputs": [
        {
          "output_type": "stream",
          "text": [
            "Archive:  /content/drive/MyDrive/School/Grad/CS 7643/Project/Biomotion_Processed_default.zip\n",
            "   creating: default/content/Biomotion_Preprocessed/default/\n",
            "   creating: default/content/Biomotion_Preprocessed/default/quat/\n",
            "  inflating: default/content/Biomotion_Preprocessed/default/quat/validation.pkl  \n",
            "  inflating: default/content/Biomotion_Preprocessed/default/quat/test.pkl  \n",
            "  inflating: default/content/Biomotion_Preprocessed/default/quat/train.pkl  \n",
            "   creating: default/content/Biomotion_Preprocessed/default/aa/\n",
            "  inflating: default/content/Biomotion_Preprocessed/default/aa/validation.pkl  \n",
            "  inflating: default/content/Biomotion_Preprocessed/default/aa/test.pkl  \n",
            "  inflating: default/content/Biomotion_Preprocessed/default/aa/train.pkl  \n",
            "   creating: default/content/Biomotion_Preprocessed/default/rotmat/\n",
            "  inflating: default/content/Biomotion_Preprocessed/default/rotmat/validation.pkl  \n",
            "  inflating: default/content/Biomotion_Preprocessed/default/rotmat/test.pkl  \n",
            "  inflating: default/content/Biomotion_Preprocessed/default/rotmat/train.pkl  \n",
            "Archive:  /content/drive/MyDrive/School/Grad/CS 7643/Project/Action_Processed_default.zip\n",
            "   creating: default/content/Action_Processed/\n",
            "   creating: default/content/Action_Processed/Walking/\n",
            "   creating: default/content/Action_Processed/Walking/aa/\n",
            "  inflating: default/content/Action_Processed/Walking/aa/test.pkl  \n",
            "  inflating: default/content/Action_Processed/Walking/aa/validation.pkl  \n",
            "  inflating: default/content/Action_Processed/Walking/aa/train.pkl  \n",
            "   creating: default/content/Action_Processed/Walking/quat/\n",
            "  inflating: default/content/Action_Processed/Walking/quat/test.pkl  \n",
            "  inflating: default/content/Action_Processed/Walking/quat/validation.pkl  \n",
            "  inflating: default/content/Action_Processed/Walking/quat/train.pkl  \n",
            "   creating: default/content/Action_Processed/Walking/rotmat/\n",
            "  inflating: default/content/Action_Processed/Walking/rotmat/test.pkl  \n",
            "  inflating: default/content/Action_Processed/Walking/rotmat/validation.pkl  \n",
            "  inflating: default/content/Action_Processed/Walking/rotmat/train.pkl  \n",
            "   creating: default/content/Action_Processed/Jumping/\n",
            "   creating: default/content/Action_Processed/Jumping/aa/\n",
            "  inflating: default/content/Action_Processed/Jumping/aa/test.pkl  \n",
            "  inflating: default/content/Action_Processed/Jumping/aa/validation.pkl  \n",
            "  inflating: default/content/Action_Processed/Jumping/aa/train.pkl  \n",
            "   creating: default/content/Action_Processed/Jumping/quat/\n",
            "  inflating: default/content/Action_Processed/Jumping/quat/test.pkl  \n",
            "  inflating: default/content/Action_Processed/Jumping/quat/validation.pkl  \n",
            "  inflating: default/content/Action_Processed/Jumping/quat/train.pkl  \n",
            "   creating: default/content/Action_Processed/Jumping/rotmat/\n",
            "  inflating: default/content/Action_Processed/Jumping/rotmat/test.pkl  \n",
            "  inflating: default/content/Action_Processed/Jumping/rotmat/validation.pkl  \n",
            "  inflating: default/content/Action_Processed/Jumping/rotmat/train.pkl  \n",
            "   creating: default/content/Action_Processed/Jogging/\n",
            "   creating: default/content/Action_Processed/Jogging/aa/\n",
            " extracting: default/content/Action_Processed/Jogging/aa/test.pkl  \n",
            " extracting: default/content/Action_Processed/Jogging/aa/validation.pkl  \n",
            "  inflating: default/content/Action_Processed/Jogging/aa/train.pkl  \n",
            "   creating: default/content/Action_Processed/Jogging/quat/\n",
            " extracting: default/content/Action_Processed/Jogging/quat/test.pkl  \n",
            " extracting: default/content/Action_Processed/Jogging/quat/validation.pkl  \n",
            "  inflating: default/content/Action_Processed/Jogging/quat/train.pkl  \n",
            "   creating: default/content/Action_Processed/Jogging/rotmat/\n",
            " extracting: default/content/Action_Processed/Jogging/rotmat/test.pkl  \n",
            " extracting: default/content/Action_Processed/Jogging/rotmat/validation.pkl  \n",
            "  inflating: default/content/Action_Processed/Jogging/rotmat/train.pkl  \n",
            "   creating: default/content/Action_Processed/Sitting/\n",
            "   creating: default/content/Action_Processed/Sitting/aa/\n",
            "  inflating: default/content/Action_Processed/Sitting/aa/test.pkl  \n",
            "  inflating: default/content/Action_Processed/Sitting/aa/validation.pkl  \n",
            "  inflating: default/content/Action_Processed/Sitting/aa/train.pkl  \n",
            "   creating: default/content/Action_Processed/Sitting/quat/\n",
            "  inflating: default/content/Action_Processed/Sitting/quat/test.pkl  \n",
            "  inflating: default/content/Action_Processed/Sitting/quat/validation.pkl  \n",
            "  inflating: default/content/Action_Processed/Sitting/quat/train.pkl  \n",
            "   creating: default/content/Action_Processed/Sitting/rotmat/\n",
            "  inflating: default/content/Action_Processed/Sitting/rotmat/test.pkl  \n",
            "  inflating: default/content/Action_Processed/Sitting/rotmat/validation.pkl  \n",
            "  inflating: default/content/Action_Processed/Sitting/rotmat/train.pkl  \n",
            "   creating: default/content/Action_Processed/Treadmill/\n",
            "   creating: default/content/Action_Processed/Treadmill/aa/\n",
            "  inflating: default/content/Action_Processed/Treadmill/aa/test.pkl  \n",
            "  inflating: default/content/Action_Processed/Treadmill/aa/validation.pkl  \n",
            "  inflating: default/content/Action_Processed/Treadmill/aa/train.pkl  \n",
            "   creating: default/content/Action_Processed/Treadmill/quat/\n",
            "  inflating: default/content/Action_Processed/Treadmill/quat/test.pkl  \n",
            "  inflating: default/content/Action_Processed/Treadmill/quat/validation.pkl  \n",
            "  inflating: default/content/Action_Processed/Treadmill/quat/train.pkl  \n",
            "   creating: default/content/Action_Processed/Treadmill/rotmat/\n",
            "  inflating: default/content/Action_Processed/Treadmill/rotmat/test.pkl  \n",
            "  inflating: default/content/Action_Processed/Treadmill/rotmat/validation.pkl  \n",
            "  inflating: default/content/Action_Processed/Treadmill/rotmat/train.pkl  \n"
          ],
          "name": "stdout"
        }
      ]
    },
    {
      "cell_type": "markdown",
      "metadata": {
        "id": "7uXaHaFYrNFE"
      },
      "source": [
        "# Loading in Models"
      ]
    },
    {
      "cell_type": "code",
      "metadata": {
        "id": "dhixAbIcrQnV"
      },
      "source": [
        "import os  \n",
        "!unzip \"/content/drive/MyDrive/Project/SPTs trained across rep.zip\" -d Models"
      ],
      "execution_count": null,
      "outputs": []
    },
    {
      "cell_type": "markdown",
      "metadata": {
        "id": "kEMnKGWt8sLn"
      },
      "source": [
        "Useful Links\n",
        "<br>\n",
        "<br>\n",
        "/usr/local/lib/python3.7/dist-packages/fairmotion/tasks/motion_prediction\n",
        "\n",
        "/usr/local/lib/python3.7/dist-packages/fairmotion/tasks/motion_prediction/test.py"
      ]
    },
    {
      "cell_type": "code",
      "metadata": {
        "id": "rmZtPbNn5uqp"
      },
      "source": [
        "# Need to implement a new test.py file in order to test against STtransformer. I made the script offline and uploaded to drive.\n",
        "from shutil import copyfile\n",
        "import os \n",
        "os.remove('/usr/local/lib/python3.7/dist-packages/fairmotion/tasks/motion_prediction/test.py')\n",
        "copyfile('/content/drive/MyDrive/Project/test.py','/usr/local/lib/python3.7/dist-packages/fairmotion/tasks/motion_prediction/test.py' )\n",
        "import torch"
      ],
      "execution_count": null,
      "outputs": []
    },
    {
      "cell_type": "markdown",
      "metadata": {
        "id": "Zg4gNWBovF3m"
      },
      "source": [
        "# aa"
      ]
    },
    {
      "cell_type": "code",
      "metadata": {
        "id": "OB1rw3KLKkee"
      },
      "source": [
        "torch.cuda.empty_cache()\n",
        "\n",
        "\n",
        "!python /usr/local/lib/python3.7/dist-packages/fairmotion/tasks/motion_prediction/test.py --save-model-path /content/Models/Models/SPT_Light/aa --preprocessed-path /content/default/content/Biomotion_Preprocessed/default/aa/   --architecture STtransformer --ninp 16 --hidden-dim 16 --save-output-path Tests/SPTaa/Biomotion/Biomotion --num-layers 1 "
      ],
      "execution_count": null,
      "outputs": []
    },
    {
      "cell_type": "markdown",
      "metadata": {
        "id": "rRH3E5jJvNB5"
      },
      "source": [
        "#quat"
      ]
    },
    {
      "cell_type": "code",
      "metadata": {
        "id": "qACFmHdgu90e"
      },
      "source": [
        "torch.cuda.empty_cache()\n",
        "\n",
        "\n",
        "!python /usr/local/lib/python3.7/dist-packages/fairmotion/tasks/motion_prediction/test.py --save-model-path /content/Models/Models/SPT_Light/quat --preprocessed-path /content/default/content/Biomotion_Preprocessed/default/quat/   --architecture STtransformer --ninp 16 --hidden-dim 16 --save-output-path Tests/SPTquat/Biomotion/Biomotion --num-layers 1 "
      ],
      "execution_count": null,
      "outputs": []
    },
    {
      "cell_type": "markdown",
      "metadata": {
        "id": "BbVtmymiDo93"
      },
      "source": [
        "#rotmat"
      ]
    },
    {
      "cell_type": "code",
      "metadata": {
        "id": "RhYstNVuDo94"
      },
      "source": [
        "torch.cuda.empty_cache()\n",
        "\n",
        "\n",
        "!python /usr/local/lib/python3.7/dist-packages/fairmotion/tasks/motion_prediction/test.py --save-model-path /content/Models/Models/SPT_Light/rotmat --preprocessed-path /content/default/content/Biomotion_Preprocessed/default/rotmat/   --architecture STtransformer --ninp 16 --hidden-dim 16 --save-output-path Tests/SPTrotmat/Biomotion/Biomotion --num-layers 1 "
      ],
      "execution_count": null,
      "outputs": []
    },
    {
      "cell_type": "code",
      "metadata": {
        "id": "Cft-ZPqXQAWX"
      },
      "source": [
        "#Save your progress\n",
        "!zip -r \"/content/drive/MyDrive/School/Grad/CS 7643/Project/Testing SPT across reps - Tests.zip\" /content/Tests/"
      ],
      "execution_count": null,
      "outputs": []
    }
  ]
}