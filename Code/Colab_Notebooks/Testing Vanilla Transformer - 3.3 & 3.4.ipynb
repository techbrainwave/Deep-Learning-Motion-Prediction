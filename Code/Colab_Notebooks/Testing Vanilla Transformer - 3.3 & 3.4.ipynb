{
  "nbformat": 4,
  "nbformat_minor": 0,
  "metadata": {
    "colab": {
      "name": "Testing Transformer across rep.ipynb",
      "provenance": [],
      "collapsed_sections": []
    },
    "kernelspec": {
      "name": "python3",
      "display_name": "Python 3"
    },
    "language_info": {
      "name": "python"
    },
    "accelerator": "GPU"
  },
  "cells": [
    {
      "cell_type": "code",
      "metadata": {
        "id": "b4j0UddxIc-Y"
      },
      "source": [
        "### Setup\n",
        "%rm -rf sample_data\n",
        "%rm -rf /content/fairmotion\n",
        "!git clone https://github.com/facebookresearch/fairmotion.git\n",
        "!pip install /content/fairmotion \n",
        "!pip install torch==1.4.0 torchvision==0.5.0\n",
        "\n",
        "\n",
        "### Commands for future use\n",
        "# !zip -r <zip destination> <folder to zip>\n",
        "# !unzip <folder to unzip> -d <zip destination> "
      ],
      "execution_count": null,
      "outputs": []
    },
    {
      "cell_type": "markdown",
      "metadata": {
        "id": "P7m0Sq7UrKbV"
      },
      "source": [
        "# Loading in Data (assuming we already have it preprocessed)."
      ]
    },
    {
      "cell_type": "code",
      "metadata": {
        "id": "-Ev3FsN2rJcY"
      },
      "source": [
        "# Default input parameters\n",
        "!unzip \"/content/drive/MyDrive/School/Grad/CS 7643/Project/Biomotion_Processed_default.zip\" -d default"
      ],
      "execution_count": null,
      "outputs": []
    },
    {
      "cell_type": "markdown",
      "metadata": {
        "id": "7uXaHaFYrNFE"
      },
      "source": [
        "# Loading in Models"
      ]
    },
    {
      "cell_type": "code",
      "metadata": {
        "id": "dhixAbIcrQnV"
      },
      "source": [
        "import os \n",
        "!unzip \"/content/drive/MyDrive/Project/Transformers trained across reps.zip\" -d Models/ "
      ],
      "execution_count": null,
      "outputs": []
    },
    {
      "cell_type": "markdown",
      "metadata": {
        "id": "kEMnKGWt8sLn"
      },
      "source": [
        "Useful Links\n",
        "<br>\n",
        "<br>\n",
        "/usr/local/lib/python3.7/dist-packages/fairmotion/tasks/motion_prediction\n",
        "\n",
        "/usr/local/lib/python3.7/dist-packages/fairmotion/tasks/motion_prediction/test.py"
      ]
    },
    {
      "cell_type": "markdown",
      "metadata": {
        "id": "Zg4gNWBovF3m"
      },
      "source": [
        "# Transformer - aa"
      ]
    },
    {
      "cell_type": "code",
      "metadata": {
        "id": "OB1rw3KLKkee"
      },
      "source": [
        "import torch\n",
        "torch.cuda.empty_cache()\n",
        "\n",
        "!python /usr/local/lib/python3.7/dist-packages/fairmotion/tasks/motion_prediction/test.py --save-model-path /content/Models/content/Models/Biomotion/aa  --preprocessed-path /content/default/content/Biomotion_Preprocessed/default/aa   --architecture transformer --hidden-dim 512 --save-output-path Tests/Transformer/aa/Biomotion/Biomotion --epoch 30"
      ],
      "execution_count": null,
      "outputs": []
    },
    {
      "cell_type": "code",
      "metadata": {
        "id": "GE18VrCWqOb1"
      },
      "source": [
        "!python /usr/local/lib/python3.7/dist-packages/fairmotion/tasks/motion_prediction/test.py --save-model-path /content/Models/content/Models/Biomotion/aa  --preprocessed-path /content/default/content/Action_Processed/Jumping/aa  --architecture transformer --hidden-dim 512 --save-output-path Tests/Transformer/aa/Biomotion/Jumping "
      ],
      "execution_count": null,
      "outputs": []
    },
    {
      "cell_type": "code",
      "metadata": {
        "id": "fPY7JhKIq4SA"
      },
      "source": [
        "!python /usr/local/lib/python3.7/dist-packages/fairmotion/tasks/motion_prediction/test.py --save-model-path /content/Models/content/Models/Biomotion/aa  --preprocessed-path /content/default/content/Action_Processed/Sitting/aa  --architecture transformer --hidden-dim 512 --save-output-path Tests/Transformer/aa/Biomotion/Sitting "
      ],
      "execution_count": null,
      "outputs": []
    },
    {
      "cell_type": "code",
      "metadata": {
        "id": "MucxPGc2rD0i"
      },
      "source": [
        "!python /usr/local/lib/python3.7/dist-packages/fairmotion/tasks/motion_prediction/test.py --save-model-path /content/Models/content/Models/Biomotion/aa  --preprocessed-path /content/default/content/Action_Processed/Treadmill/aa  --architecture transformer --hidden-dim 512 --save-output-path Tests/Transformer/aa/Biomotion/Treadmill "
      ],
      "execution_count": null,
      "outputs": []
    },
    {
      "cell_type": "code",
      "metadata": {
        "id": "2rHrCYLrr16l"
      },
      "source": [
        "!python /usr/local/lib/python3.7/dist-packages/fairmotion/tasks/motion_prediction/test.py --save-model-path /content/Models/content/Models/Biomotion/aa  --preprocessed-path /content/default/content/Action_Processed/Walking/aa  --architecture transformer --hidden-dim 512 --save-output-path Tests/Transformer/aa/Biomotion/Walking "
      ],
      "execution_count": null,
      "outputs": []
    },
    {
      "cell_type": "markdown",
      "metadata": {
        "id": "C6SCbXXQxYLl"
      },
      "source": [
        "# Transformer - quat\n"
      ]
    },
    {
      "cell_type": "code",
      "metadata": {
        "id": "09QssYgIxjCm"
      },
      "source": [
        "!python /usr/local/lib/python3.7/dist-packages/fairmotion/tasks/motion_prediction/test.py --save-model-path /content/Models/content/Models/Biomotion/quat  --preprocessed-path /content/default/content/Biomotion_Preprocessed/default/quat   --architecture transformer --hidden-dim 512 --save-output-path Tests/Transformer/quat/Biomotion/Biomotion "
      ],
      "execution_count": null,
      "outputs": []
    },
    {
      "cell_type": "code",
      "metadata": {
        "id": "DWp38WoZxjCo"
      },
      "source": [
        "!python /usr/local/lib/python3.7/dist-packages/fairmotion/tasks/motion_prediction/test.py --save-model-path /content/Models/content/Models/Biomotion/quat  --preprocessed-path /content/default/content/Action_Processed/Jumping/quat --architecture transformer --hidden-dim 512 --save-output-path Tests/Transformer/quat/Biomotion/Jumping "
      ],
      "execution_count": null,
      "outputs": []
    },
    {
      "cell_type": "code",
      "metadata": {
        "id": "NOo-TssaxjCo"
      },
      "source": [
        "!python /usr/local/lib/python3.7/dist-packages/fairmotion/tasks/motion_prediction/test.py --save-model-path /content/Models/content/Models/Biomotion/quat  --preprocessed-path /content/default/content/Action_Processed/Sitting/quat  --architecture transformer --hidden-dim 512 --save-output-path Tests/Transformer/quat/Biomotion/Sitting "
      ],
      "execution_count": null,
      "outputs": []
    },
    {
      "cell_type": "code",
      "metadata": {
        "id": "YWpjSELqxjCo"
      },
      "source": [
        "!python /usr/local/lib/python3.7/dist-packages/fairmotion/tasks/motion_prediction/test.py --save-model-path /content/Models/content/Models/Biomotion/quat  --preprocessed-path /content/default/content/Action_Processed/Treadmill/quat  --architecture transformer --hidden-dim 512 --save-output-path Tests/Transformer/quat/Biomotion/Treadmill "
      ],
      "execution_count": null,
      "outputs": []
    },
    {
      "cell_type": "code",
      "metadata": {
        "id": "Rth74WogxjCp"
      },
      "source": [
        "!python /usr/local/lib/python3.7/dist-packages/fairmotion/tasks/motion_prediction/test.py --save-model-path /content/Models/content/Models/Biomotion/quat --preprocessed-path /content/default/content/Action_Processed/Walking/quat  --architecture transformer --hidden-dim 512 --save-output-path Tests/Transformer/quat/Biomotion/Walking "
      ],
      "execution_count": null,
      "outputs": []
    },
    {
      "cell_type": "markdown",
      "metadata": {
        "id": "UGH3hHH-y7wr"
      },
      "source": [
        "# Transformer - rotmat\n"
      ]
    },
    {
      "cell_type": "code",
      "metadata": {
        "id": "NJoD6wEby7wy"
      },
      "source": [
        "!python /usr/local/lib/python3.7/dist-packages/fairmotion/tasks/motion_prediction/test.py --save-model-path /content/Models/content/Models/Biomotion/rotmat  --preprocessed-path /content/default/content/Biomotion_Preprocessed/default/rotmat   --architecture transformer --hidden-dim 512 --save-output-path Tests/Transformer/rotmat/Biomotion/Biomotion "
      ],
      "execution_count": null,
      "outputs": []
    },
    {
      "cell_type": "code",
      "metadata": {
        "id": "ngVSUyR5y7wy"
      },
      "source": [
        "!python /usr/local/lib/python3.7/dist-packages/fairmotion/tasks/motion_prediction/test.py --save-model-path /content/Models/content/Models/Biomotion/rotmat --preprocessed-path /content/default/content/Action_Processed/Jumping/rotmat --architecture transformer --hidden-dim 512 --save-output-path Tests/Transformer/rotmat/Biomotion/Jumping "
      ],
      "execution_count": null,
      "outputs": []
    },
    {
      "cell_type": "code",
      "metadata": {
        "id": "87s5DoZky7wz"
      },
      "source": [
        "!python /usr/local/lib/python3.7/dist-packages/fairmotion/tasks/motion_prediction/test.py --save-model-path /content/Models/content/Models/Biomotion/rotmat  --preprocessed-path /content/default/content/Action_Processed/Sitting/rotmat  --architecture transformer --hidden-dim 512 --save-output-path Tests/Transformer/rotmat/Biomotion/Sitting "
      ],
      "execution_count": null,
      "outputs": []
    },
    {
      "cell_type": "code",
      "metadata": {
        "id": "Et4VpbGEy7wz"
      },
      "source": [
        "!python /usr/local/lib/python3.7/dist-packages/fairmotion/tasks/motion_prediction/test.py --save-model-path /content/Models/content/Models/Biomotion/rotmat  --preprocessed-path /content/default/content/Action_Processed/Treadmill/rotmat  --architecture transformer --hidden-dim 512 --save-output-path Tests/Transformer/rotmat/Biomotion/Treadmill "
      ],
      "execution_count": null,
      "outputs": []
    },
    {
      "cell_type": "code",
      "metadata": {
        "id": "8zjKRfXky7wz"
      },
      "source": [
        "!python /usr/local/lib/python3.7/dist-packages/fairmotion/tasks/motion_prediction/test.py --save-model-path /content/Models/content/Models/Biomotion/rotmat --preprocessed-path /content/default/content/Action_Processed/Walking/rotmat  --architecture transformer --hidden-dim 512 --save-output-path Tests/Transformer/rotmat/Biomotion/Walking "
      ],
      "execution_count": null,
      "outputs": []
    },
    {
      "cell_type": "code",
      "metadata": {
        "id": "Cft-ZPqXQAWX"
      },
      "source": [
        "#Save your progress\n",
        "!zip -r \"/content/drive/MyDrive/School/Grad/CS 7643/Project/Testing Transformer across reps - Tests.zip\" /content/Tests/"
      ],
      "execution_count": null,
      "outputs": []
    }
  ]
}