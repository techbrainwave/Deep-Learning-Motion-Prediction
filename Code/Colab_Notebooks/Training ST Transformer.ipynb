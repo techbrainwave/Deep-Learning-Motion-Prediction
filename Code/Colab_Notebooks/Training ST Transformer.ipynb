{
  "nbformat": 4,
  "nbformat_minor": 0,
  "metadata": {
    "colab": {
      "name": "SPT Training across Reps.ipynb",
      "provenance": [],
      "collapsed_sections": [
        "K19kNbLxQdDo"
      ],
      "machine_shape": "hm"
    },
    "kernelspec": {
      "name": "python3",
      "display_name": "Python 3"
    },
    "language_info": {
      "name": "python"
    },
    "accelerator": "GPU"
  },
  "cells": [
    {
      "cell_type": "code",
      "metadata": {
        "id": "b4j0UddxIc-Y"
      },
      "source": [
        "%rm -rf sample_data\n",
        "!wget https://www.dropbox.com/s/4cpoi9zhw6x57oj/HumanoidMotionPrediction.zip?dl=0&file_subpath=%2FHumanoidMotionPrediction -p SPT\n",
        "!unzip /content/HumanoidMotionPrediction.zip?dl=0 -d Input \n",
        "!pip install /content/Input/HumanoidMotionPrediction\n",
        "import torch"
      ],
      "execution_count": null,
      "outputs": []
    },
    {
      "cell_type": "markdown",
      "metadata": {
        "id": "P7m0Sq7UrKbV"
      },
      "source": [
        "# Loading in Data (assuming we already have it preprocessed)."
      ]
    },
    {
      "cell_type": "code",
      "metadata": {
        "id": "-Ev3FsN2rJcY"
      },
      "source": [
        "# Default input parameters\n",
        "!unzip \"/content/drive/MyDrive/School/Grad/CS 7643/Project/Biomotion_Processed_default.zip\" -d Biomotion\n",
        "!unzip \"/content/drive/MyDrive/School/Grad/CS 7643/Project/Action_Processed_default.zip\" -d Action"
      ],
      "execution_count": null,
      "outputs": []
    },
    {
      "cell_type": "markdown",
      "metadata": {
        "id": "rgBoR_ppobmh"
      },
      "source": [
        "# Training Spatial Temporal Transformer across representations"
      ]
    },
    {
      "cell_type": "markdown",
      "metadata": {
        "id": "1nOJolkA_9tL"
      },
      "source": [
        "/usr/local/lib/python3.7/dist-packages/fairmotion/tasks/motion_prediction/utils.py - Change # cpu in  line 63 to 8\n",
        "<br>\n",
        "/usr/local/lib/python3.7/dist-packages/fairmotion/utils/utils.py - line 59 to 8"
      ]
    },
    {
      "cell_type": "code",
      "metadata": {
        "id": "Q4tjFE4KVqNS"
      },
      "source": [
        "import torch\n",
        "torch.cuda.empty_cache()\n",
        "!python /usr/local/lib/python3.7/dist-packages/fairmotion/tasks/motion_prediction/training.py --save-model-path Models/SPT_Light/quat  --preprocessed-path /content/Biomotion/content/Biomotion_Preprocessed/default/quat      --num-layers 1 --num-heads 1 --batch-size 16 --hidden-dim 16 --ninp 16 --lr 0.001 --architecture STtransformer --epochs 30 --optimizer adam --device cuda "
      ],
      "execution_count": null,
      "outputs": []
    },
    {
      "cell_type": "code",
      "metadata": {
        "id": "0I_f0fhK80g4"
      },
      "source": [
        "import torch\n",
        "torch.cuda.empty_cache()\n",
        "!python /usr/local/lib/python3.7/dist-packages/fairmotion/tasks/motion_prediction/training.py --save-model-path Models/SPT_Light/aa  --preprocessed-path /content/Biomotion/content/Biomotion_Preprocessed/default/aa      --num-layers 1 --num-heads 1 --batch-size 16 --hidden-dim 16 --ninp 16 --lr 0.001 --architecture STtransformer --epochs 30 --optimizer adam --device cuda "
      ],
      "execution_count": null,
      "outputs": []
    },
    {
      "cell_type": "code",
      "metadata": {
        "id": "yraHbUPFlS_v"
      },
      "source": [
        "import torch\n",
        "torch.cuda.empty_cache()\n",
        "!python /usr/local/lib/python3.7/dist-packages/fairmotion/tasks/motion_prediction/training.py --save-model-path Models/SPT_Light/rotmat  --preprocessed-path /content/Biomotion/content/Biomotion_Preprocessed/default/rotmat      --num-layers 1 --num-heads 1 --batch-size 16 --hidden-dim 16 --ninp 16 --lr 0.001 --architecture STtransformer --epochs 30 --optimizer adam --device cuda "
      ],
      "execution_count": null,
      "outputs": []
    },
    {
      "cell_type": "code",
      "metadata": {
        "id": "uCLD4XvAQQ4Q"
      },
      "source": [
        "!zip -r \"/content/drive/MyDrive/Project/SPTs trained across rep.zip\"  Models"
      ],
      "execution_count": null,
      "outputs": []
    }
  ]
}