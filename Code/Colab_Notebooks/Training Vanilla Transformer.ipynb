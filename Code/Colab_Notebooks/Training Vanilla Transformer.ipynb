{
  "nbformat": 4,
  "nbformat_minor": 0,
  "metadata": {
    "accelerator": "GPU",
    "colab": {
      "name": "Transformer Training across Reps.ipynb ",
      "provenance": [],
      "collapsed_sections": []
    },
    "kernelspec": {
      "display_name": "Python 3",
      "name": "python3"
    },
    "language_info": {
      "name": "python"
    }
  },
  "cells": [
    {
      "cell_type": "code",
      "metadata": {
        "id": "EzhnnRL71KcJ"
      },
      "source": [
        "### Setup\n",
        "%rm -rf sample_data\n",
        "%rm -rf /content/fairmotion\n",
        "!git clone https://github.com/facebookresearch/fairmotion.git\n",
        "!pip install /content/fairmotion \n",
        "!pip install torch==1.4.0 torchvision==0.5.0\n",
        "\n",
        "# \n",
        "### Files to use\n",
        "!unzip \"/content/drive/MyDrive/School/Grad/CS 7643/Project/Biomotion_Processed_default.zip\" -d Biomotion\n",
        "!unzip \"/content/drive/MyDrive/School/Grad/CS 7643/Project/Action_Processed_default.zip\" -d Actions\n",
        "### Commands for future use\n",
        "# !zip -r <zip destination> <folder to zip>\n",
        "# !unzip <folder to unzip> -d <zip destination> "
      ],
      "execution_count": null,
      "outputs": []
    },
    {
      "cell_type": "code",
      "metadata": {
        "id": "p9qQoUoRbb2K"
      },
      "source": [
        "import torch\n",
        "torch.cuda.get_device_name(0)"
      ],
      "execution_count": null,
      "outputs": []
    },
    {
      "cell_type": "markdown",
      "metadata": {
        "id": "kEMnKGWt8sLn"
      },
      "source": [
        "Useful Links\n",
        "<br>\n",
        "<br>\n",
        "/usr/local/lib/python3.7/dist-packages/fairmotion/tasks/motion_prediction\n",
        "\n",
        "/usr/local/lib/python3.7/dist-packages/fairmotion/tasks/motion_prediction/test.py"
      ]
    },
    {
      "cell_type": "markdown",
      "metadata": {
        "id": "1nOJolkA_9tL"
      },
      "source": [
        "/usr/local/lib/python3.7/dist-packages/fairmotion/tasks/motion_prediction/utils.py - Change # cpu in  line 63 to 8\n",
        "<br>\n",
        "/usr/local/lib/python3.7/dist-packages/fairmotion/utils/utils.py - line 59 to 8"
      ]
    },
    {
      "cell_type": "markdown",
      "metadata": {
        "id": "c1WjObgN1aXL"
      },
      "source": [
        "# Train Across Representations - Full Biomotion"
      ]
    },
    {
      "cell_type": "code",
      "metadata": {
        "colab": {
          "background_save": true
        },
        "id": "Y3J1uhWF1WM-"
      },
      "source": [
        "# Biomotion - aa\n",
        "\n",
        "torch.cuda.empty_cache()\n",
        "!python  /usr/local/lib/python3.7/dist-packages/fairmotion/tasks/motion_prediction/training.py --save-model-path Models/Biomotion/aa --preprocessed-path /content/Biomotion/content/Biomotion_Preprocessed/default/aa --epochs 30 --architecture transformer --device cuda --hidden-dim 512 --batch-size 16 --opt adam --lr .001 --num-layers 1 "
      ],
      "execution_count": null,
      "outputs": []
    },
    {
      "cell_type": "code",
      "metadata": {
        "id": "dect2Zg4OrNw"
      },
      "source": [
        "# Biomotion - quat\n",
        "\n",
        "torch.cuda.empty_cache()\n",
        "!python  /usr/local/lib/python3.7/dist-packages/fairmotion/tasks/motion_prediction/training.py --save-model-path Models/Biomotion/aa --preprocessed-path /content/Biomotion/content/Biomotion_Preprocessed/default/aa --epochs 30 --architecture transformer --device cuda --hidden-dim 512 --batch-size 16 --opt adam --lr .001 --num-layers 1 "
      ],
      "execution_count": null,
      "outputs": []
    },
    {
      "cell_type": "code",
      "metadata": {
        "id": "kvvH-ncRyffI"
      },
      "source": [
        "# Biomotion - rotmat\n",
        "\n",
        "torch.cuda.empty_cache()\n",
        "!python  /usr/local/lib/python3.7/dist-packages/fairmotion/tasks/motion_prediction/training.py --save-model-path Models/Biomotion/rotmat --preprocessed-path /content/Biomotion/content/Biomotion_Preprocessed/default/rotmat --epochs 30 --architecture transformer --device cuda --hidden-dim 512 --batch-size 16 --opt adam --lr .001 --num-layers 1 \n"
      ],
      "execution_count": null,
      "outputs": []
    },
    {
      "cell_type": "code",
      "metadata": {
        "id": "a4BhuBlBaS-7"
      },
      "source": [
        "!zip -r \"/content/drive/MyDrive/School/Grad/CS 7643/Project/Transformers trained across reps.zip\" /content/Models"
      ],
      "execution_count": null,
      "outputs": []
    }
  ]
}