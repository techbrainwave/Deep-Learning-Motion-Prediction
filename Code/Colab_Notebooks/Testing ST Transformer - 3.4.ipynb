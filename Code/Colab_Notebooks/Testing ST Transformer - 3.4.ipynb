{
  "nbformat": 4,
  "nbformat_minor": 0,
  "metadata": {
    "colab": {
      "name": "Testing SPT across actions.ipynb",
      "provenance": [],
      "collapsed_sections": []
    },
    "kernelspec": {
      "name": "python3",
      "display_name": "Python 3"
    },
    "language_info": {
      "name": "python"
    },
    "accelerator": "GPU"
  },
  "cells": [
    {
      "cell_type": "code",
      "metadata": {
        "id": "b4j0UddxIc-Y"
      },
      "source": [
        "%rm -rf sample_data\n",
        "!wget https://www.dropbox.com/s/4cpoi9zhw6x57oj/HumanoidMotionPrediction.zip?dl=0&file_subpath=%2FHumanoidMotionPrediction -p SPT\n",
        "!unzip /content/HumanoidMotionPrediction.zip?dl=0 -d Input \n",
        "!pip install /content/Input/HumanoidMotionPrediction"
      ],
      "execution_count": null,
      "outputs": []
    },
    {
      "cell_type": "markdown",
      "metadata": {
        "id": "P7m0Sq7UrKbV"
      },
      "source": [
        "# Loading in Data (assuming we already have it preprocessed)."
      ]
    },
    {
      "cell_type": "code",
      "metadata": {
        "id": "-Ev3FsN2rJcY"
      },
      "source": [
        "# Default input parameters\n",
        "!unzip \"/content/drive/MyDrive/School/Grad/CS 7643/Project/Biomotion_Preprocessed_default.zip\" -d default\n",
        "!unzip \"/content/drive/MyDrive/School/Grad/CS 7643/Project/Action_Processed_default.zip\" -d default"
      ],
      "execution_count": null,
      "outputs": []
    },
    {
      "cell_type": "markdown",
      "metadata": {
        "id": "7uXaHaFYrNFE"
      },
      "source": [
        "# Loading in Models"
      ]
    },
    {
      "cell_type": "code",
      "metadata": {
        "id": "dhixAbIcrQnV"
      },
      "source": [
        "!unzip \"/content/drive/MyDrive/Project/SPTs trained across rep.zip\" -d Models/SPT"
      ],
      "execution_count": null,
      "outputs": []
    },
    {
      "cell_type": "markdown",
      "metadata": {
        "id": "kEMnKGWt8sLn"
      },
      "source": [
        "Useful Links\n",
        "<br>\n",
        "<br>\n",
        "/usr/local/lib/python3.7/dist-packages/fairmotion/tasks/motion_prediction\n",
        "\n",
        "/usr/local/lib/python3.7/dist-packages/fairmotion/tasks/motion_prediction/test.py"
      ]
    },
    {
      "cell_type": "code",
      "metadata": {
        "id": "Cft-ZPqXQAWX"
      },
      "source": [
        "#Save your progress\n",
        "!zip -r \"/content/drive/MyDrive/School/Grad/CS 7643/Project/Testing SPT across actions - Tests.zip\" /content/Tests/"
      ],
      "execution_count": null,
      "outputs": []
    },
    {
      "cell_type": "markdown",
      "metadata": {
        "id": "rgBoR_ppobmh"
      },
      "source": [
        "# Testing Model performance on Actions: <br>\n",
        "+ Full Range of Motions\n",
        "+ Jumping\n",
        "+ Sitting\n",
        "+ Walking\n",
        "+ Treadmill "
      ]
    },
    {
      "cell_type": "code",
      "metadata": {
        "id": "rmZtPbNn5uqp"
      },
      "source": [
        "# Need to implement a new test.py file in order to test against STtransformer. I made the script offline and uploaded to drive.\n",
        "from shutil import copyfile\n",
        "import os \n",
        "os.remove('/usr/local/lib/python3.7/dist-packages/fairmotion/tasks/motion_prediction/test.py')\n",
        "copyfile('/content/drive/MyDrive/Project/test.py','/usr/local/lib/python3.7/dist-packages/fairmotion/tasks/motion_prediction/test.py' )\n",
        "import torch"
      ],
      "execution_count": null,
      "outputs": []
    },
    {
      "cell_type": "code",
      "metadata": {
        "id": "kS_kZ_5v0zlj"
      },
      "source": [
        "torch.cuda.empty_cache()\n",
        "\n",
        "!python /usr/local/lib/python3.7/dist-packages/fairmotion/tasks/motion_prediction/test.py --save-model-path /content/Models/ST/rotmat --preprocessed-path /content/default/content/Biomotion_Preprocessed/default/rotmat   --architecture STtransformer --ninp 16 --hidden-dim 16 --save-output-path Tests/SPT/quat/Biomotion/Biomotion --num-layers 1"
      ],
      "execution_count": null,
      "outputs": []
    },
    {
      "cell_type": "code",
      "metadata": {
        "id": "zSYVEn-30zlj"
      },
      "source": [
        "torch.cuda.empty_cache()\n",
        "\n",
        "!python /usr/local/lib/python3.7/dist-packages/fairmotion/tasks/motion_prediction/test.py --save-model-path /content/Models/ST/rotmat --preprocessed-path /content/default/content/Action_Processed/Jumping/rotmat   --architecture STtransformer --ninp 16 --hidden-dim 16 --save-output-path Tests/SPT30/quat/Biomotion/Jumping --num-layers 1"
      ],
      "execution_count": null,
      "outputs": []
    },
    {
      "cell_type": "code",
      "metadata": {
        "id": "bBwnmn9b0zlj"
      },
      "source": [
        "torch.cuda.empty_cache()\n",
        "\n",
        "!python /usr/local/lib/python3.7/dist-packages/fairmotion/tasks/motion_prediction/test.py --save-model-path /content/Models/SPT/ST/rotmat --preprocessed-path /content/default/content/Action_Processed/Sitting/rotmat   --architecture STtransformer --ninp 16 --hidden-dim 16 --save-output-path Tests/SPT/quat/Biomotion/Sitting --num-layers 1"
      ],
      "execution_count": null,
      "outputs": []
    },
    {
      "cell_type": "code",
      "metadata": {
        "id": "_ilGk9XB0zlk"
      },
      "source": [
        "torch.cuda.empty_cache()\n",
        "\n",
        "!python /usr/local/lib/python3.7/dist-packages/fairmotion/tasks/motion_prediction/test.py --save-model-path /content/Models/ST/rotmat --preprocessed-path /content/default/content/Action_Processed/Treadmill/rotmat   --architecture STtransformer --ninp 16 --hidden-dim 16 --save-output-path Tests/SPT/quat/Biomotion/Treadmill --num-layers 1"
      ],
      "execution_count": null,
      "outputs": []
    },
    {
      "cell_type": "code",
      "metadata": {
        "id": "JWN-xihs0zlk"
      },
      "source": [
        "torch.cuda.empty_cache()\n",
        "\n",
        "!python /usr/local/lib/python3.7/dist-packages/fairmotion/tasks/motion_prediction/test.py --save-model-path /content/Models/ST/rotmat --preprocessed-path /content/default/content/Action_Processed/Walking/rotmat   --architecture STtransformer --ninp 16 --hidden-dim 16 --save-output-path Tests/SPT/quat/Biomotion/Walking --num-layers 1"
      ],
      "execution_count": null,
      "outputs": []
    },
    {
      "cell_type": "code",
      "metadata": {
        "id": "-QLqVSUUHCbN"
      },
      "source": [
        ""
      ],
      "execution_count": null,
      "outputs": []
    }
  ]
}